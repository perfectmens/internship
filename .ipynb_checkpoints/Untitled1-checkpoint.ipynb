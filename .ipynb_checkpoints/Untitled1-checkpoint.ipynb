{
 "cells": [
  {
   "cell_type": "code",
   "execution_count": 9,
   "id": "edd99e20-035b-441b-850c-59b079bef226",
   "metadata": {},
   "outputs": [
    {
     "name": "stdout",
     "output_type": "stream",
     "text": [
      "0: Kengeri\n",
      "1: Nayandahalli\n",
      "2: Mysore Road\n",
      "3: Deepanjali Nagar\n",
      "4: Attiguppe\n",
      "5: Vijayanagar\n",
      "6: Hosahalli\n",
      "7: Magadi Road\n",
      "8: Majestic\n",
      "9: Cubbon Park\n",
      "10: Vidhana Soudha\n",
      "11: MG Road\n",
      "12: Trinity\n",
      "13: Halasuru\n",
      "14: Indiranagar\n",
      "15: Swami Vivekananda Road\n",
      "16: Baiyappanahalli\n"
     ]
    }
   ],
   "source": [
    "users = {\n",
    "    \"saran\": {\"balance\": 100 , \"c\"},\n",
    "    \"arun\": {\"balance\": 50},\n",
    "    \"meena\": {\"balance\": 75}\n",
    "}\n",
    "\n",
    "# Get username input\n",
    "username = input(\"Enter your username: \").strip().lower()\n",
    "\n",
    "# Check if user exists\n",
    "if username in users:\n",
    "    print(f\"✅ Welcome back, {username.capitalize()}! Your balance is ₹{users[username]['balance']}.\")\n",
    "else:\n",
    "    print(f\"🚫 User '{username}' not found.\")\n",
    "    create = input(\"Would you like to create a new user? (yes/no): \").strip().lower()\n",
    "\n",
    "    if create == \"yes\":\n",
    "        name = username\n",
    "        try:\n",
    "            balance = int(input(\"Enter starting balance: ₹\"))\n",
    "            users[name] = {\"balance\": balance}\n",
    "            print(f\"✅ User '{name}' created successfully with ₹{balance} balance.\")\n",
    "        except ValueError:\n",
    "            print(\"❌ Invalid input. Balance must be a number.\")\n",
    "    else:\n",
    "        print(\"👋 Exiting. No user created.\")\n",
    "\n",
    "# Optional: print updated users database\n",
    "print(\"\\n📋 All Users:\")\n",
    "for user, data in users.items():\n",
    "    print(f\"{user.capitalize()} - ₹{data['balance']}\")\n"
   ]
  },
  {
   "cell_type": "code",
   "execution_count": null,
   "id": "b45f6e44-baa1-44e2-9b48-b95d769d84b7",
   "metadata": {},
   "outputs": [],
   "source": [
    "swip = input (\"place you id : \")"
   ]
  },
  {
   "cell_type": "code",
   "execution_count": null,
   "id": "819571a0-ae3b-4f14-b32b-63f53e9f1946",
   "metadata": {},
   "outputs": [],
   "source": [
    "class metro:\n",
    "    def __init__(self , ur , acc , bl):\n",
    "        self.ur = ur\n",
    "        self.acc = acc\n",
    "        self.bl = bal\n",
    "    def travel(self):\n",
    "        \n",
    "    "
   ]
  }
 ],
 "metadata": {
  "kernelspec": {
   "display_name": "Python 3 (ipykernel)",
   "language": "python",
   "name": "python3"
  },
  "language_info": {
   "codemirror_mode": {
    "name": "ipython",
    "version": 3
   },
   "file_extension": ".py",
   "mimetype": "text/x-python",
   "name": "python",
   "nbconvert_exporter": "python",
   "pygments_lexer": "ipython3",
   "version": "3.11.9"
  }
 },
 "nbformat": 4,
 "nbformat_minor": 5
}
