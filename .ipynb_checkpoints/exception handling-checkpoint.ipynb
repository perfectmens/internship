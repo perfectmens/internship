{
 "cells": [
  {
   "cell_type": "code",
   "execution_count": null,
   "id": "2a2ba671-495e-4636-865c-cc70d0cefa15",
   "metadata": {},
   "outputs": [],
   "source": [
    "def greeting(name):\n",
    "  print(\"Hello, \" + name)"
   ]
  },
  {
   "cell_type": "code",
   "execution_count": 1,
   "id": "2c17e396-8c14-4770-9477-8c8f2bf3226d",
   "metadata": {},
   "outputs": [
    {
     "name": "stdout",
     "output_type": "stream",
     "text": [
      "<class 'NameError'> name 'ew' is not defined\n"
     ]
    }
   ],
   "source": [
    "try:\n",
    "    e = ew  \n",
    "    print(e / 2.3)\n",
    "except Exception as e:\n",
    "    print(type(e), e)\n"
   ]
  },
  {
   "cell_type": "code",
   "execution_count": null,
   "id": "cdc84756-224d-45af-aabe-78e040bef86f",
   "metadata": {},
   "outputs": [],
   "source": [
    "try:\n",
    "    a = 23**2\n",
    "    print(a)\n",
    "except Exception as e:\n",
    "    print(type(e),e)\n",
    "else:\n",
    "    print('good it works')"
   ]
  },
  {
   "cell_type": "code",
   "execution_count": null,
   "id": "e482cc45-fc11-405d-a959-37d5b1dc6d32",
   "metadata": {},
   "outputs": [],
   "source": []
  },
  {
   "cell_type": "code",
   "execution_count": null,
   "id": "20309d09-4050-4eef-ac33-0924646892d7",
   "metadata": {},
   "outputs": [],
   "source": []
  }
 ],
 "metadata": {
  "kernelspec": {
   "display_name": "Python 3 (ipykernel)",
   "language": "python",
   "name": "python3"
  },
  "language_info": {
   "codemirror_mode": {
    "name": "ipython",
    "version": 3
   },
   "file_extension": ".py",
   "mimetype": "text/x-python",
   "name": "python",
   "nbconvert_exporter": "python",
   "pygments_lexer": "ipython3",
   "version": "3.11.9"
  }
 },
 "nbformat": 4,
 "nbformat_minor": 5
}
