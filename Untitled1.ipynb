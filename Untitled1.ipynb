{
 "cells": [
  {
   "cell_type": "code",
   "execution_count": 28,
   "id": "e41ba709-ed33-434c-b256-4cf96b60681e",
   "metadata": {},
   "outputs": [
    {
     "name": "stdin",
     "output_type": "stream",
     "text": [
      "place your prof:  CARD2342342345\n"
     ]
    },
    {
     "name": "stdout",
     "output_type": "stream",
     "text": [
      "\n",
      "❌ User not found. Creating a new user...\n"
     ]
    },
    {
     "name": "stdin",
     "output_type": "stream",
     "text": [
      "Enter initial balance:  2342\n",
      "Preferred method (card / mobile qr / nfc):  mobile\n"
     ]
    },
    {
     "name": "stdout",
     "output_type": "stream",
     "text": [
      "\n",
      "✅ New user created and saved:\n",
      "username      card2342342345\n",
      "balance               2342.0\n",
      "preference            mobile\n",
      "id            CARD6825668041\n"
     ]
    }
   ],
   "source": [
    "import pandas as pd\n",
    "import os\n",
    "import random\n",
    "\n",
    "# Constants\n",
    "FILE_PATH = \"users.csv\"\n",
    "COLUMNS = [\"username\", \"balance\", \"preference\", \"id\"]\n",
    "\n",
    "# Function to generate ID based on preference\n",
    "def generate_id(preference):\n",
    "    prefix_map = {\"card\": \"CARD\", \"mobile qr\": \"QR\", \"nfc\": \"NFC\"}\n",
    "    prefix = prefix_map.get(preference, \"CARD\")\n",
    "    return prefix + ''.join(random.choices(\"0123456789\", k=10))\n",
    "\n",
    "# Load dataset or initialize a new DataFrame\n",
    "if os.path.exists(FILE_PATH) and os.path.getsize(FILE_PATH) > 0:\n",
    "    try:\n",
    "        df = pd.read_csv(FILE_PATH)\n",
    "    except pd.errors.EmptyDataError:\n",
    "        df = pd.DataFrame(columns=COLUMNS)\n",
    "else:\n",
    "    df = pd.DataFrame(columns=COLUMNS)\n",
    "\n",
    "# Ask for username\n",
    "username = input(\"what is your name : \").strip().lower()\n",
    "\n",
    "# Check if user exists\n",
    "if username in df[\"username\"].values:\n",
    "    user_row = df[df[\"username\"] == username].iloc[0]\n",
    "    print(\"\\n✅ User already exists:\")\n",
    "    print(user_row.to_string())\n",
    "else:\n",
    "    print(\"\\n❌ User not found. Creating a new user...\")\n",
    "    balance = float(input(\"Enter initial balance: \"))\n",
    "    preference = input(\"Preferred method (card / mobile qr / nfc): \").strip().lower()\n",
    "    unique_id = generate_id(preference)\n",
    "\n",
    "    new_user = {\n",
    "        \"username\": username,\n",
    "        \"balance\": balance,\n",
    "        \"preference\": preference,\n",
    "        \"id\": unique_id\n",
    "    }\n",
    "\n",
    "    # Ensure column order and prevent warning\n",
    "    new_row = pd.DataFrame([new_user], columns=df.columns)\n",
    "    df = pd.concat([df, new_row], ignore_index=True)\n",
    "\n",
    "    # Save to CSV\n",
    "    df.to_csv(FILE_PATH, index=False)\n",
    "\n",
    "    print(\"\\n✅ New user created and saved:\")\n",
    "    print(pd.Series(new_user).to_string())\n"
   ]
  },
  {
   "cell_type": "code",
   "execution_count": null,
   "id": "b45f6e44-baa1-44e2-9b48-b95d769d84b7",
   "metadata": {},
   "outputs": [],
   "source": []
  },
  {
   "cell_type": "code",
   "execution_count": null,
   "id": "819571a0-ae3b-4f14-b32b-63f53e9f1946",
   "metadata": {},
   "outputs": [],
   "source": [
    "\n",
    "    "
   ]
  }
 ],
 "metadata": {
  "kernelspec": {
   "display_name": "Python 3 (ipykernel)",
   "language": "python",
   "name": "python3"
  },
  "language_info": {
   "codemirror_mode": {
    "name": "ipython",
    "version": 3
   },
   "file_extension": ".py",
   "mimetype": "text/x-python",
   "name": "python",
   "nbconvert_exporter": "python",
   "pygments_lexer": "ipython3",
   "version": "3.11.9"
  }
 },
 "nbformat": 4,
 "nbformat_minor": 5
}
