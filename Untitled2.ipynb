{
 "cells": [
  {
   "cell_type": "code",
   "execution_count": 1,
   "id": "0ab8f0b1-016b-473f-9c26-497285e63341",
   "metadata": {},
   "outputs": [
    {
     "name": "stdout",
     "output_type": "stream",
     "text": [
      "apple\n",
      "banana\n",
      "cherry\n"
     ]
    }
   ],
   "source": [
    "mytuple = (\"apple\", \"banana\", \"cherry\")\n",
    "myit = iter(mytuple)\n",
    "\n",
    "print(next(myit))\n",
    "print(next(myit))\n",
    "print(next(myit))"
   ]
  },
  {
   "cell_type": "code",
   "execution_count": 2,
   "id": "e4964b39-7ad6-40f9-801e-aa8551b324da",
   "metadata": {},
   "outputs": [
    {
     "name": "stdout",
     "output_type": "stream",
     "text": [
      "b\n",
      "a\n",
      "n\n",
      "a\n",
      "n\n",
      "a\n"
     ]
    }
   ],
   "source": [
    "mystr = \"banana\"\n",
    "myit = iter(mystr)\n",
    "\n",
    "print(next(myit))\n",
    "print(next(myit))\n",
    "print(next(myit))\n",
    "print(next(myit))\n",
    "print(next(myit))\n",
    "print(next(myit))"
   ]
  },
  {
   "cell_type": "code",
   "execution_count": 3,
   "id": "d7b3dd96-3cf9-4838-b015-5584e9b147f4",
   "metadata": {},
   "outputs": [
    {
     "name": "stdout",
     "output_type": "stream",
     "text": [
      "apple\n",
      "banana\n",
      "cherry\n"
     ]
    }
   ],
   "source": [
    "mytuple = (\"apple\", \"banana\", \"cherry\")\n",
    "\n",
    "for x in mytuple:\n",
    "  print(x)"
   ]
  },
  {
   "cell_type": "code",
   "execution_count": 7,
   "id": "10af6d7e-12b1-40c5-a624-47c22c2fe403",
   "metadata": {},
   "outputs": [
    {
     "name": "stdout",
     "output_type": "stream",
     "text": [
      "b\n",
      "a\n",
      "n\n",
      "a\n",
      "n\n",
      "a\n"
     ]
    }
   ],
   "source": [
    "mysr = \"banana\"\n",
    "\n",
    "for x in mysr:\n",
    "  print(x)"
   ]
  },
  {
   "cell_type": "code",
   "execution_count": 8,
   "id": "fba8b687-4bb8-4458-b698-69b15f4649b9",
   "metadata": {},
   "outputs": [
    {
     "name": "stdout",
     "output_type": "stream",
     "text": [
      "1\n",
      "2\n",
      "3\n",
      "4\n",
      "5\n"
     ]
    }
   ],
   "source": [
    "class MyNumbers:\n",
    "  def __iter__(self):\n",
    "    self.a = 1\n",
    "    return self\n",
    "\n",
    "  def __next__(self):\n",
    "    x = self.a\n",
    "    self.a += 1\n",
    "    return x\n",
    "\n",
    "myclass = MyNumbers()\n",
    "myiter = iter(myclass)\n",
    "\n",
    "print(next(myiter))\n",
    "print(next(myiter))\n",
    "print(next(myiter))\n",
    "print(next(myiter))\n",
    "print(next(myiter))"
   ]
  },
  {
   "cell_type": "code",
   "execution_count": 9,
   "id": "1d6d243f-f7c4-495b-83a5-b01250cbc92a",
   "metadata": {},
   "outputs": [
    {
     "name": "stdout",
     "output_type": "stream",
     "text": [
      "Ford - Mustang\n"
     ]
    }
   ],
   "source": [
    "class Vehicle:\n",
    "    def __init__(self, brand, model):  # constructor\n",
    "        self.brand = brand\n",
    "        self.model = model\n",
    "\n",
    "    def display(self):\n",
    "        print(f\"{self.brand} - {self.model}\")\n",
    "\n",
    "car = Vehicle(\"Ford\", \"Mustang\")  # Python automatically calls __init__\n",
    "car.display()\n"
   ]
  },
  {
   "cell_type": "code",
   "execution_count": 11,
   "id": "b5002851-0d08-40c0-a939-ed9644edd84a",
   "metadata": {},
   "outputs": [
    {
     "name": "stdout",
     "output_type": "stream",
     "text": [
      "Ford - Mustang\n"
     ]
    }
   ],
   "source": [
    "class Vehicle:\n",
    "    def __init__(self, brand, model):  # just a normal method\n",
    "        self.brand = brand\n",
    "        self.model = model\n",
    "\n",
    "    def display(self):\n",
    "        print(f\"{self.brand} - {self.model}\")\n",
    "\n",
    "car = Vehicle(\"Ford\", \"Mustang\")  # ❌ This will throw an error\n",
    "car.display()\n"
   ]
  },
  {
   "cell_type": "code",
   "execution_count": 13,
   "id": "f1f52e4c-27f3-45db-b694-39552f314d26",
   "metadata": {},
   "outputs": [
    {
     "name": "stdout",
     "output_type": "stream",
     "text": [
      "Custom init\n"
     ]
    }
   ],
   "source": [
    "class A:\n",
    "    def __init__(self):     # ❌ This won't be called automatically\n",
    "        print(\"Custom init\")\n",
    "\n",
    "a = A()  # Will NOT call `init`, will just create the object\n"
   ]
  },
  {
   "cell_type": "code",
   "execution_count": 26,
   "id": "1a32328e-3477-4efc-ad29-57a01f9f25b1",
   "metadata": {},
   "outputs": [
    {
     "name": "stdin",
     "output_type": "stream",
     "text": [
      "what is your amount :  23423\n"
     ]
    },
    {
     "name": "stdout",
     "output_type": "stream",
     "text": [
      "null\n",
      "345634 is your account balance saran\n",
      "23423 withdrawn , balance amount is 322211\n"
     ]
    }
   ],
   "source": [
    "class ATM:\n",
    "    def __init__(self , name ,ac , bal):\n",
    "        self.name = name\n",
    "        self.ac = ac\n",
    "        self.bal = bal\n",
    "        print('null')\n",
    "    def balance(self):\n",
    "        print(f'{self.bal} is your account balance {self.name}')\n",
    "    def wd(self , amount):\n",
    "        if amount <= self.bal:\n",
    "            self.bal -= amount\n",
    "            print(f'{amount} withdrawn , balance amount is {self.bal}')\n",
    "        else :\n",
    "            print('low balance')\n",
    "\n",
    "usramt = int(input(\"what is your amount : \"))\n",
    "ur1 = ATM(\"saran\",\"12938623867\",345634)\n",
    "ur1.balance()\n",
    "ur1.wd(usramt)\n",
    "    "
   ]
  },
  {
   "cell_type": "code",
   "execution_count": null,
   "id": "eead146f-175e-44eb-ad46-9103617534cf",
   "metadata": {},
   "outputs": [],
   "source": []
  }
 ],
 "metadata": {
  "kernelspec": {
   "display_name": "Python 3 (ipykernel)",
   "language": "python",
   "name": "python3"
  },
  "language_info": {
   "codemirror_mode": {
    "name": "ipython",
    "version": 3
   },
   "file_extension": ".py",
   "mimetype": "text/x-python",
   "name": "python",
   "nbconvert_exporter": "python",
   "pygments_lexer": "ipython3",
   "version": "3.11.9"
  }
 },
 "nbformat": 4,
 "nbformat_minor": 5
}
