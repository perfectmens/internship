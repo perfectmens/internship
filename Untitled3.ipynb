{
 "cells": [
  {
   "cell_type": "markdown",
   "id": "7588d4ca-a4f2-42dd-8014-716d0ba3825c",
   "metadata": {},
   "source": [
    "<div align=\"center\">\n",
    "  <img src=\"coding.webp\" width=\"300\">\n",
    "</div>\n"
   ]
  },
  {
   "cell_type": "markdown",
   "id": "ef9a8bc4-ba98-4a32-aff0-05a790dbe0c9",
   "metadata": {},
   "source": [
    "# Mechine Learning\n",
    " \n",
    " Machine Learning is a subset of artificial intelligence (Ai).\n",
    "It makes the machine learn from past data and make predictions.\n",
    "It involves training algorithms to learn patterns from data and make predictions or decisions.\n",
    "\n",
    "## Work flow for mechine learning :-\n",
    "\n",
    "1-**data collection**(gather data from various sources). \n",
    "\n",
    "2-**data preprocessing**(clean and prepare data analysis). \n",
    "\n",
    "3-**data analysis,data visualization.**(Exploring the data to understand its structure, patterns, and relationships.) \n",
    "\n",
    "4-**feature engneering**.(Creating new features or modifying existing ones to improve the model's performance.) \n",
    "\n",
    "5-**model training**.(Using the prepared data to train a machine learning model.) \n",
    "*********\n",
    "*training*\n",
    "'print(\"hello\")'\n",
    "\n",
    "<pre>print(\"hello world !\")</pre>\n",
    "\n",
    "\n",
    "to install pandas\n",
    "\n",
    "```bash\n",
    "pip install pandas\n",
    "```\n",
    "\n",
    "\n",
    "Use `pip install pandas` to install.\n",
    "\n",
    "<pre>python import pandas as pd df = pd.read_csv(\"data.csv\") print(df.head()) </pre>\n",
    "\n",
    "\n",
    "********\n",
    "6-**model evaluation**.(Assessing the model's performance using metrics like accuracy, precision, recall, F1 score, and mean squared error.) \n",
    "\n",
    "*************************\n",
    "\n",
    "7-**model deployment**.(Integrating the trained model into a production environment where it can make real-time predictions or decisions based on new data.)\n",
    "\n",
    "------------------------------\n",
    "\n",
    "### my link\n",
    "\n",
    "[github](https://github.com/perfectments\n",
    ")\n"
   ]
  },
  {
   "cell_type": "markdown",
   "id": "6317fd8f-c1e4-4b81-893e-484141f06a0d",
   "metadata": {},
   "source": [
    "| Column 1 | Column 2 | Column 3 |\n",
    "|----------|----------|----------|\n",
    "| Value 1  | Value 2  | Value 3  |\n",
    "| A        | B        | C        |\n",
    "| X        | Y        | Z        |\n"
   ]
  },
  {
   "cell_type": "markdown",
   "id": "98e7932b-bbb9-4f38-af49-675421cece2a",
   "metadata": {},
   "source": [
    "|name|class|age|\n",
    "|----|-----|---|\n",
    "|**the name of the person**|4th|8|\n",
    "|the|the class of the student is 3|9|"
   ]
  },
  {
   "attachments": {},
   "cell_type": "markdown",
   "id": "3e73ad2f-6b02-43f1-a282-6ab96b1b45db",
   "metadata": {},
   "source": [
    "# asdf\n"
   ]
  },
  {
   "cell_type": "markdown",
   "id": "d08cee36-2f50-4fce-b4f0-ba78b5387124",
   "metadata": {},
   "source": []
  },
  {
   "cell_type": "markdown",
   "id": "5d3714b6-96a5-4b38-b6a6-e500a02439f4",
   "metadata": {},
   "source": [
    "$$\n",
    "\\text{Information Gain}(S, A) = \\text{Entropy}(S) - \\sum_{v \\in \\text{Values}(A)} \\frac{|S_v|}{|S|} \\cdot \\text{Entropy}(S_v)\n",
    "$$\n"
   ]
  },
  {
   "cell_type": "code",
   "execution_count": null,
   "id": "f80feaea-8339-498e-8fe8-18771f80ddd2",
   "metadata": {},
   "outputs": [],
   "source": [
    "while True:\n",
    "    a = input(\"What is your name: \").strip()\n",
    "    if a.isalpha():  \n",
    "        try:\n",
    "            print(f\"Hello! {a}\")\n",
    "            break\n",
    "        except Exception as e:\n",
    "            print(type(e), \"Try again\")\n",
    "            continue\n",
    "    else:\n",
    "        print(\"Invalid input, please enter only alphabetic characters.\")\n"
   ]
  },
  {
   "cell_type": "code",
   "execution_count": null,
   "id": "230f2aa4-2ed8-4cd1-b355-b403fac55d1a",
   "metadata": {},
   "outputs": [],
   "source": []
  }
 ],
 "metadata": {
  "kernelspec": {
   "display_name": "Python 3 (ipykernel)",
   "language": "python",
   "name": "python3"
  },
  "language_info": {
   "codemirror_mode": {
    "name": "ipython",
    "version": 3
   },
   "file_extension": ".py",
   "mimetype": "text/x-python",
   "name": "python",
   "nbconvert_exporter": "python",
   "pygments_lexer": "ipython3",
   "version": "3.11.9"
  }
 },
 "nbformat": 4,
 "nbformat_minor": 5
}
