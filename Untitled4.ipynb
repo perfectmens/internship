{
 "cells": [
  {
   "cell_type": "code",
   "execution_count": null,
   "id": "6cab5f96-f75a-47c7-8300-8deb03e18eaf",
   "metadata": {},
   "outputs": [],
   "source": []
  }
 ],
 "metadata": {
  "kernelspec": {
   "display_name": "",
   "name": ""
  },
  "language_info": {
   "name": ""
  }
 },
 "nbformat": 4,
 "nbformat_minor": 5
}
