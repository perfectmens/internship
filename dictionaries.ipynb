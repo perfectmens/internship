{
 "cells": [
  {
   "cell_type": "code",
   "execution_count": 2,
   "id": "ae396205-f3c4-4010-874a-ea0ab278558d",
   "metadata": {},
   "outputs": [
    {
     "name": "stdout",
     "output_type": "stream",
     "text": [
      "{'brand': 'Ford', 'model': 'mustang', 'year': 1968}\n"
     ]
    }
   ],
   "source": [
    "dic = {\n",
    "    \"brand\":\"Ford\",\n",
    "    \"model\":\"mustang\",\n",
    "    \"year\": 1968\n",
    "}\n",
    "print(dic)\n"
   ]
  },
  {
   "cell_type": "code",
   "execution_count": 3,
   "id": "35e4d9b2-9888-4361-abba-ab48859d9a45",
   "metadata": {},
   "outputs": [
    {
     "name": "stdout",
     "output_type": "stream",
     "text": [
      "Ford\n"
     ]
    }
   ],
   "source": [
    "print(dic[\"brand\"])"
   ]
  },
  {
   "cell_type": "code",
   "execution_count": 5,
   "id": "c8578964-061a-4b50-ad5e-10bee5968c11",
   "metadata": {},
   "outputs": [
    {
     "name": "stdout",
     "output_type": "stream",
     "text": [
      "1968\n"
     ]
    }
   ],
   "source": [
    "print(dic['year'])"
   ]
  },
  {
   "cell_type": "markdown",
   "id": "4cc1b0f5-c8e7-421c-966a-333c35d1e747",
   "metadata": {},
   "source": [
    "**overwrite the repeted values**"
   ]
  },
  {
   "cell_type": "code",
   "execution_count": 11,
   "id": "6931f4b7-9b8b-4514-b80b-0abea3bba5ac",
   "metadata": {},
   "outputs": [
    {
     "name": "stdout",
     "output_type": "stream",
     "text": [
      "{'brand': 'Ford', 'model': 'mustang', 'year': 1989, 'colors': ['red', 'white', 'blue']}\n"
     ]
    }
   ],
   "source": [
    "dic = {\n",
    "    \"brand\":\"Ford\",\n",
    "    \"model\":\"mustang\",\n",
    "    \"year\": 1968,\n",
    "    \"year\":1989,\n",
    "    \"colors\": [\"red\", \"white\", \"blue\"]\n",
    "}\n",
    "print(dic)\n"
   ]
  },
  {
   "cell_type": "code",
   "execution_count": 9,
   "id": "73c22c14-ad50-4171-a8a4-99d10d91cd0c",
   "metadata": {},
   "outputs": [
    {
     "name": "stdout",
     "output_type": "stream",
     "text": [
      "3\n"
     ]
    }
   ],
   "source": [
    "print(len(dic))"
   ]
  },
  {
   "cell_type": "code",
   "execution_count": 12,
   "id": "659a739d-383f-4113-b3c2-7ea470c297d3",
   "metadata": {},
   "outputs": [
    {
     "name": "stdout",
     "output_type": "stream",
     "text": [
      "<class 'dict'>\n"
     ]
    }
   ],
   "source": [
    "print(type(dic))"
   ]
  },
  {
   "cell_type": "code",
   "execution_count": 13,
   "id": "f7663e4c-4431-4f5a-b681-d4d249e48cc9",
   "metadata": {},
   "outputs": [],
   "source": [
    "thisdic = dict(name=\"saran\",age = 20,village = \"kotagiri\")"
   ]
  },
  {
   "cell_type": "code",
   "execution_count": 15,
   "id": "b81b3530-e968-4533-9f2b-a765c486c4e2",
   "metadata": {},
   "outputs": [
    {
     "name": "stdout",
     "output_type": "stream",
     "text": [
      "{'name': 'saran', 'age': 20, 'village': 'kotagiri'}\n"
     ]
    }
   ],
   "source": [
    "print(thisdic)"
   ]
  },
  {
   "cell_type": "code",
   "execution_count": 16,
   "id": "2803b7a0-e167-472a-a981-9986fc8ffd58",
   "metadata": {},
   "outputs": [
    {
     "name": "stdout",
     "output_type": "stream",
     "text": [
      "234\n"
     ]
    }
   ],
   "source": []
  },
  {
   "cell_type": "code",
   "execution_count": 17,
   "id": "d612c2d5-314e-4b0b-9414-2a6238e8771b",
   "metadata": {},
   "outputs": [
    {
     "name": "stdout",
     "output_type": "stream",
     "text": [
      "234\n"
     ]
    }
   ],
   "source": [
    "a = -234\n",
    "print(a*-1)"
   ]
  },
  {
   "cell_type": "code",
   "execution_count": 20,
   "id": "da487135-2a4b-4739-91d8-333476b428d5",
   "metadata": {},
   "outputs": [
    {
     "name": "stdout",
     "output_type": "stream",
     "text": [
      "321\n"
     ]
    }
   ],
   "source": [
    "a = -123\n",
    "x = abs(a)                  \n",
    "x = str(x)[::-1]            \n",
    "x = int(x)                  \n",
    "print(x)\n",
    "x"
   ]
  },
  {
   "cell_type": "code",
   "execution_count": null,
   "id": "10e90699-ffef-457c-b786-91461d3f001e",
   "metadata": {},
   "outputs": [],
   "source": []
  }
 ],
 "metadata": {
  "kernelspec": {
   "display_name": "Python 3 (ipykernel)",
   "language": "python",
   "name": "python3"
  },
  "language_info": {
   "codemirror_mode": {
    "name": "ipython",
    "version": 3
   },
   "file_extension": ".py",
   "mimetype": "text/x-python",
   "name": "python",
   "nbconvert_exporter": "python",
   "pygments_lexer": "ipython3",
   "version": "3.11.9"
  }
 },
 "nbformat": 4,
 "nbformat_minor": 5
}
