{
 "cells": [
  {
   "cell_type": "code",
   "execution_count": 1,
   "id": "849bd9fb-b118-412e-8080-a3fee6c8833b",
   "metadata": {},
   "outputs": [],
   "source": [
    "f = open('myfile.txt','x')\n",
    "# This script attempts to create a new file named 'myfile.txt'.\n",
    "# If 'myfile.txt' already exists, it will raise a FileExistsError."
   ]
  },
  {
   "cell_type": "code",
   "execution_count": 2,
   "id": "3e805c76-e1fb-45c8-becc-34e4ab6fc0f6",
   "metadata": {},
   "outputs": [],
   "source": [
    "with open(\"myfile.txt\",\"a\") as f:\n",
    "    f.write('this is a testing file')"
   ]
  },
  {
   "cell_type": "code",
   "execution_count": 3,
   "id": "6f766e03-9f67-4b9f-a216-f8e3d1cb292d",
   "metadata": {},
   "outputs": [
    {
     "name": "stdout",
     "output_type": "stream",
     "text": [
      "this is a testing file\n"
     ]
    }
   ],
   "source": [
    "with open(\"myfile.txt\") as f:\n",
    "    print(f.read())"
   ]
  },
  {
   "cell_type": "code",
   "execution_count": 13,
   "id": "aae1ab34-8249-462a-8146-89370c1dda29",
   "metadata": {},
   "outputs": [],
   "source": [
    "import os\n",
    "os.remove('myfile.txt')"
   ]
  },
  {
   "cell_type": "code",
   "execution_count": 14,
   "id": "3c9c6d70-3714-4dd3-bdea-cc6352eb4d73",
   "metadata": {},
   "outputs": [
    {
     "name": "stdout",
     "output_type": "stream",
     "text": [
      "The file does not exist\n"
     ]
    }
   ],
   "source": [
    "import os\n",
    "if os.path.exists(\"myfile.txt\"):\n",
    "  os.remove(\"myfile.txt\")\n",
    "else:\n",
    "  print(\"The file does not exist\")"
   ]
  },
  {
   "cell_type": "code",
   "execution_count": null,
   "id": "9af14e28-22be-4215-80ae-251cdb0bf1f6",
   "metadata": {},
   "outputs": [],
   "source": []
  },
  {
   "cell_type": "code",
   "execution_count": 18,
   "id": "d5bd678f-43fc-4e23-8000-50df9aad3b11",
   "metadata": {},
   "outputs": [],
   "source": []
  },
  {
   "cell_type": "code",
   "execution_count": null,
   "id": "e6674e5a-ec22-4e66-9973-1826601f5244",
   "metadata": {},
   "outputs": [],
   "source": []
  },
  {
   "cell_type": "code",
   "execution_count": null,
   "id": "17cee176-0977-495c-b396-d82a0860c494",
   "metadata": {},
   "outputs": [],
   "source": []
  }
 ],
 "metadata": {
  "kernelspec": {
   "display_name": "Python 3 (ipykernel)",
   "language": "python",
   "name": "python3"
  },
  "language_info": {
   "codemirror_mode": {
    "name": "ipython",
    "version": 3
   },
   "file_extension": ".py",
   "mimetype": "text/x-python",
   "name": "python",
   "nbconvert_exporter": "python",
   "pygments_lexer": "ipython3",
   "version": "3.11.9"
  }
 },
 "nbformat": 4,
 "nbformat_minor": 5
}
