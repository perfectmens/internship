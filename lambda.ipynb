{
 "cells": [
  {
   "cell_type": "code",
   "execution_count": 3,
   "id": "994180f2-a77b-4c5b-baa7-b99c602932d0",
   "metadata": {},
   "outputs": [
    {
     "name": "stdout",
     "output_type": "stream",
     "text": [
      "22\n"
     ]
    }
   ],
   "source": [
    "x = lambda a : a+10\n",
    "print(x(12))"
   ]
  },
  {
   "cell_type": "code",
   "execution_count": 4,
   "id": "29ba8e32-4b14-4110-b74d-0d38a46c1ad5",
   "metadata": {},
   "outputs": [
    {
     "name": "stdout",
     "output_type": "stream",
     "text": [
      "30\n"
     ]
    }
   ],
   "source": [
    "x = lambda a, b : a * b\n",
    "print(x(5 , 6))"
   ]
  },
  {
   "cell_type": "code",
   "execution_count": 5,
   "id": "87d1b50c-ec89-4f2c-b5a3-e708c7ab8341",
   "metadata": {},
   "outputs": [
    {
     "name": "stdout",
     "output_type": "stream",
     "text": [
      "22\n"
     ]
    }
   ],
   "source": [
    "def myfunc(n):\n",
    "  return lambda a : a * n\n",
    "\n",
    "mydoubler = myfunc(2)\n",
    "\n",
    "print(mydoubler(11))"
   ]
  },
  {
   "cell_type": "code",
   "execution_count": 16,
   "id": "05f12408-3ead-488a-95d4-71270fd79fde",
   "metadata": {},
   "outputs": [
    {
     "name": "stdout",
     "output_type": "stream",
     "text": [
      "a = 4, n = 2, result = 8\n"
     ]
    }
   ],
   "source": [
    "def my(n):\n",
    "    return lambda a: print(f\"a = {a}, n = {n}, result = {a * n}\")\n",
    "\n",
    "mydoubler = my(2)\n",
    "mydoubler(4)\n"
   ]
  },
  {
   "cell_type": "code",
   "execution_count": null,
   "id": "1adb5954-a13d-48dc-a5a9-aa64dc840ad3",
   "metadata": {},
   "outputs": [],
   "source": []
  },
  {
   "cell_type": "code",
   "execution_count": null,
   "id": "3859f2e7-993a-4b86-876c-cfa42f73117a",
   "metadata": {},
   "outputs": [],
   "source": []
  }
 ],
 "metadata": {
  "kernelspec": {
   "display_name": "Python 3 (ipykernel)",
   "language": "python",
   "name": "python3"
  },
  "language_info": {
   "codemirror_mode": {
    "name": "ipython",
    "version": 3
   },
   "file_extension": ".py",
   "mimetype": "text/x-python",
   "name": "python",
   "nbconvert_exporter": "python",
   "pygments_lexer": "ipython3",
   "version": "3.11.9"
  }
 },
 "nbformat": 4,
 "nbformat_minor": 5
}
