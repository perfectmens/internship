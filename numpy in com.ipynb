{
 "cells": [
  {
   "cell_type": "code",
   "execution_count": 10,
   "id": "b3843bac-3cb1-42ab-8da9-4466e0e95d62",
   "metadata": {},
   "outputs": [
    {
     "name": "stdout",
     "output_type": "stream",
     "text": [
      "car\n",
      "bike\n",
      "train\n"
     ]
    }
   ],
   "source": [
    "import numpy as np\n",
    "x =np.array([\"car\",'bike','train'])\n",
    "\n",
    "#print(x)\n",
    "fav = x[0]\n",
    "for fav in x:\n",
    "    print(fav)"
   ]
  },
  {
   "cell_type": "code",
   "execution_count": 79,
   "id": "7b363e80-9b4c-4a2a-a917-0e83a53f98eb",
   "metadata": {},
   "outputs": [
    {
     "name": "stdout",
     "output_type": "stream",
     "text": [
      "[15 25]\n",
      "[10 15 20 25 30 35 40]\n"
     ]
    }
   ],
   "source": [
    "arr = np.array([10, 15, 20, 25, 30, 35, 40])\n",
    "print(arr[1:4:2]) ; print(arr[::1])"
   ]
  },
  {
   "cell_type": "code",
   "execution_count": 54,
   "id": "f014d0c1-1c58-4052-8f85-2083464898a8",
   "metadata": {},
   "outputs": [
    {
     "name": "stdout",
     "output_type": "stream",
     "text": [
      "[10 15 20 25 30 35 40] 1\n"
     ]
    }
   ],
   "source": [
    "arr = np.array([10, 15, 20, 25, 30, 35, 40],dtype = \"i\",ndmin=1)\n",
    "print(arr,arr.ndim)"
   ]
  },
  {
   "cell_type": "code",
   "execution_count": 33,
   "id": "8e4b9a4e-3431-4965-9117-96fb8d61c886",
   "metadata": {},
   "outputs": [
    {
     "name": "stdout",
     "output_type": "stream",
     "text": [
      "[ True False  True]\n"
     ]
    }
   ],
   "source": [
    "import numpy as np\n",
    "arr = np.array([-1, 0, 1])\n",
    "newarr = arr.astype(bool)\n",
    "print(newarr)"
   ]
  },
  {
   "cell_type": "code",
   "execution_count": 73,
   "id": "813d80cf-0059-4f32-8caf-c19f93ff2e04",
   "metadata": {},
   "outputs": [
    {
     "name": "stdout",
     "output_type": "stream",
     "text": [
      "[35 25 15]\n"
     ]
    }
   ],
   "source": [
    "print(arr[-2:0:-2])"
   ]
  },
  {
   "cell_type": "code",
   "execution_count": null,
   "id": "62300a04-229e-4f2b-9f12-02f4b888026d",
   "metadata": {},
   "outputs": [],
   "source": []
  },
  {
   "cell_type": "code",
   "execution_count": null,
   "id": "75008a4a-d1b5-4d93-9b22-8de46d848fa0",
   "metadata": {},
   "outputs": [],
   "source": []
  }
 ],
 "metadata": {
  "kernelspec": {
   "display_name": "Python 3 (ipykernel)",
   "language": "python",
   "name": "python3"
  },
  "language_info": {
   "codemirror_mode": {
    "name": "ipython",
    "version": 3
   },
   "file_extension": ".py",
   "mimetype": "text/x-python",
   "name": "python",
   "nbconvert_exporter": "python",
   "pygments_lexer": "ipython3",
   "version": "3.11.9"
  }
 },
 "nbformat": 4,
 "nbformat_minor": 5
}
