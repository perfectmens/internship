{
 "cells": [
  {
   "cell_type": "code",
   "execution_count": null,
   "id": "b2e5efc6-d603-461b-8ab7-cf127b01c787",
   "metadata": {},
   "outputs": [],
   "source": []
  }
 ],
 "metadata": {
  "kernelspec": {
   "display_name": "",
   "name": ""
  },
  "language_info": {
   "name": ""
  }
 },
 "nbformat": 4,
 "nbformat_minor": 5
}
