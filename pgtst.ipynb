{
 "cells": [
  {
   "cell_type": "code",
   "execution_count": 4,
   "id": "69ce0e83-bb8f-4361-b711-8676a1a7dd76",
   "metadata": {
    "scrolled": true
   },
   "outputs": [
    {
     "name": "stdout",
     "output_type": "stream",
     "text": [
      "file exist\n"
     ]
    }
   ],
   "source": []
  },
  {
   "cell_type": "code",
   "execution_count": null,
   "id": "aeeb0cec-1098-438a-b5f6-98363cc5b124",
   "metadata": {},
   "outputs": [],
   "source": [
    "import os\n",
    "if os.path.exists(\"myfile.txt\"):\n",
    "    print('file exist')\n",
    "else:\n",
    "    f = open(\"myfile.txt\",\"x\")\n",
    "while True:\n",
    "    name = input(\"What is student's name: \")\n",
    "    if name.lower() == \"stop\":\n",
    "        break\n",
    "\n",
    "    while True:\n",
    "        try:\n",
    "            age = int(input(f\"What is {name}'s age? \"))\n",
    "            break  # Exit the inner loop once valid\n",
    "        except ValueError:\n",
    "            print(\"Invalid age! Please enter a number.\")\n",
    "    with open('myfile.txt','a')as a:\n",
    "        a.write(f\"name of the sudent is {name} and age of the sudent is {age} \\n\\n\")\n",
    "    print(f\"Student Name: {name}, Age: {age}\")\n",
    "    \n",
    "with open('myfile.txt','r') as r:\n",
    "    print(r.read())\n",
    "\n"
   ]
  },
  {
   "cell_type": "code",
   "execution_count": null,
   "id": "9addba13-d4d9-438c-b95a-24a07ab62be9",
   "metadata": {},
   "outputs": [],
   "source": []
  },
  {
   "cell_type": "code",
   "execution_count": null,
   "id": "7d273655-e0ad-42b0-9914-40c0b9faa78e",
   "metadata": {},
   "outputs": [],
   "source": []
  },
  {
   "cell_type": "code",
   "execution_count": null,
   "id": "6bb05bba-2ab8-4614-b5da-bcdeaf674626",
   "metadata": {},
   "outputs": [],
   "source": []
  }
 ],
 "metadata": {
  "kernelspec": {
   "display_name": "Python 3 (ipykernel)",
   "language": "python",
   "name": "python3"
  },
  "language_info": {
   "codemirror_mode": {
    "name": "ipython",
    "version": 3
   },
   "file_extension": ".py",
   "mimetype": "text/x-python",
   "name": "python",
   "nbconvert_exporter": "python",
   "pygments_lexer": "ipython3",
   "version": "3.11.9"
  }
 },
 "nbformat": 4,
 "nbformat_minor": 5
}
